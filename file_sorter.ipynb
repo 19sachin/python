{
 "cells": [
  {
   "cell_type": "markdown",
   "id": "bf87e473-9292-4a93-9b64-56189c63bfa9",
   "metadata": {},
   "source": [
    "#automatic file sorter in file explorer"
   ]
  },
  {
   "cell_type": "code",
   "execution_count": 1,
   "id": "96e9af12-d576-47d1-9def-1d39574e9519",
   "metadata": {},
   "outputs": [],
   "source": [
    "import os ,shutil"
   ]
  },
  {
   "cell_type": "code",
   "execution_count": 14,
   "id": "c28a5283-5243-46d9-8c77-73ec789873ef",
   "metadata": {},
   "outputs": [],
   "source": [
    "path = r\"D:/new python/\""
   ]
  },
  {
   "cell_type": "code",
   "execution_count": 27,
   "id": "b3ab54a0-c73e-4018-865f-0345be5d9f72",
   "metadata": {},
   "outputs": [],
   "source": [
    "file_name = os.listdir(path)"
   ]
  },
  {
   "cell_type": "code",
   "execution_count": 26,
   "id": "90a56a7d-b2eb-43de-826f-8d7b20e316a6",
   "metadata": {},
   "outputs": [],
   "source": [
    "folder_name = ['csv_file','image_file','text_file']\n",
    "for loop in range(0,3):\n",
    "    if not os.path.exists(path + folder_name[loop]):\n",
    "       os.makedirs(path + folder_name[loop])"
   ]
  },
  {
   "cell_type": "code",
   "execution_count": 31,
   "id": "40cc68c1-c328-4b1e-a3f3-54a52177e0fb",
   "metadata": {},
   "outputs": [],
   "source": [
    "for file in file_name:\n",
    "    if \".csv\" in file and not os.path.exists(path + \"csv_file/\" + file):\n",
    "      shutil.move(path + file, path + \"csv_file/\" + file)\n",
    "    if \".png\" in file and not os.path.exists(path + \"image_file/\" + file):\n",
    "      shutil.move(path + file, path + \"image_file/\" + file)\n",
    "    if \".txt\" in file and not os.path.exists(path + \"text_file/\" + file):\n",
    "      shutil.move(path + file, path + \"text_file/\" + file)"
   ]
  },
  {
   "cell_type": "code",
   "execution_count": null,
   "id": "87d12c8f-67ce-4815-92ea-9a16344d45c1",
   "metadata": {},
   "outputs": [],
   "source": []
  }
 ],
 "metadata": {
  "kernelspec": {
   "display_name": "Python 3 (ipykernel)",
   "language": "python",
   "name": "python3"
  },
  "language_info": {
   "codemirror_mode": {
    "name": "ipython",
    "version": 3
   },
   "file_extension": ".py",
   "mimetype": "text/x-python",
   "name": "python",
   "nbconvert_exporter": "python",
   "pygments_lexer": "ipython3",
   "version": "3.13.5"
  }
 },
 "nbformat": 4,
 "nbformat_minor": 5
}
