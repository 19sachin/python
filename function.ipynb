{
 "cells": [
  {
   "cell_type": "code",
   "execution_count": 1,
   "id": "a0580a04-0813-4a1f-a4dc-6fd447f8be6e",
   "metadata": {},
   "outputs": [],
   "source": [
    "#FUNCTION"
   ]
  },
  {
   "cell_type": "code",
   "execution_count": 2,
   "id": "4955374b-38ef-4320-b5a9-c967d1e4ab56",
   "metadata": {},
   "outputs": [],
   "source": [
    "def first_fun():\n",
    "    print('we did it')"
   ]
  },
  {
   "cell_type": "code",
   "execution_count": 3,
   "id": "98a265c3-d3c2-45d0-a78f-6185fb6cae53",
   "metadata": {},
   "outputs": [
    {
     "name": "stdout",
     "output_type": "stream",
     "text": [
      "we did it\n"
     ]
    }
   ],
   "source": [
    "first_fun()"
   ]
  },
  {
   "cell_type": "code",
   "execution_count": 4,
   "id": "d1bae7c8-028c-4698-b364-61e6e622726f",
   "metadata": {},
   "outputs": [],
   "source": [
    "def num_squared(number):\n",
    "    print(number**2)\n",
    "    "
   ]
  },
  {
   "cell_type": "code",
   "execution_count": 5,
   "id": "94278c1f-c366-43f5-bc71-377ac016b544",
   "metadata": {},
   "outputs": [
    {
     "name": "stdout",
     "output_type": "stream",
     "text": [
      "25\n"
     ]
    }
   ],
   "source": [
    "num_squared(5)"
   ]
  },
  {
   "cell_type": "code",
   "execution_count": 8,
   "id": "220fff61-c3de-4711-b231-020cd2e0e724",
   "metadata": {},
   "outputs": [],
   "source": [
    "def cust_num_squared(number,power):\n",
    "    print(number**power)"
   ]
  },
  {
   "cell_type": "code",
   "execution_count": 9,
   "id": "9c227a03-7be7-4989-8bec-2ab1364cb562",
   "metadata": {},
   "outputs": [
    {
     "name": "stdout",
     "output_type": "stream",
     "text": [
      "8000\n"
     ]
    }
   ],
   "source": [
    "cust_num_squared(20,3)"
   ]
  },
  {
   "cell_type": "code",
   "execution_count": 13,
   "id": "24acc2f8-4cd3-4483-897e-3da65c2cca76",
   "metadata": {},
   "outputs": [],
   "source": [
    "args_tuple = (8,4,6,4,7,8)\n",
    "def numbers_args(*number):\n",
    "    print(number[0]*number[1])"
   ]
  },
  {
   "cell_type": "code",
   "execution_count": 15,
   "id": "1002e3d3-b8a7-4121-9bfb-1e55b5429ad7",
   "metadata": {},
   "outputs": [
    {
     "name": "stdout",
     "output_type": "stream",
     "text": [
      "32\n"
     ]
    }
   ],
   "source": [
    "numbers_args(*args_tuple)"
   ]
  },
  {
   "cell_type": "code",
   "execution_count": 16,
   "id": "4519947f-32b0-462d-ba94-c58f52dbd646",
   "metadata": {},
   "outputs": [],
   "source": [
    "args_tuple = (8,4,6,4,7,8)\n",
    "def numbers_args(*number):\n",
    "    print(number[0]*number[1]*number[2])"
   ]
  },
  {
   "cell_type": "code",
   "execution_count": 17,
   "id": "33fc045c-3ec6-4188-9007-99a834e78ce9",
   "metadata": {},
   "outputs": [
    {
     "name": "stdout",
     "output_type": "stream",
     "text": [
      "192\n"
     ]
    }
   ],
   "source": [
    "numbers_args(*args_tuple)"
   ]
  },
  {
   "cell_type": "code",
   "execution_count": null,
   "id": "2f67bc80-0f0c-4588-9f07-37aad48edbd2",
   "metadata": {},
   "outputs": [],
   "source": [
    "def cust_num_squared(number,power):\n",
    "    print(number**power)\n"
   ]
  },
  {
   "cell_type": "code",
   "execution_count": 19,
   "id": "1430f0bd-1303-4a51-bf11-cedbb202f2e5",
   "metadata": {},
   "outputs": [
    {
     "name": "stdout",
     "output_type": "stream",
     "text": [
      "9\n"
     ]
    }
   ],
   "source": [
    "cust_num_squared(power = 2,number = 3)"
   ]
  },
  {
   "cell_type": "code",
   "execution_count": 29,
   "id": "01022347-62f2-45c6-8b7d-fc8eadd98568",
   "metadata": {},
   "outputs": [],
   "source": [
    "def number_sag(**number):\n",
    "    print('my number is :' + number['integer'])"
   ]
  },
  {
   "cell_type": "code",
   "execution_count": 31,
   "id": "3078ea5b-1b79-4a0c-9725-7e5a2efe64ea",
   "metadata": {},
   "outputs": [
    {
     "name": "stdout",
     "output_type": "stream",
     "text": [
      "my number is :2000\n"
     ]
    }
   ],
   "source": [
    "number_sag(integer = '2000')"
   ]
  },
  {
   "cell_type": "code",
   "execution_count": null,
   "id": "4bc18b05-95ec-42d8-ad0e-657fb4a70110",
   "metadata": {},
   "outputs": [],
   "source": []
  }
 ],
 "metadata": {
  "kernelspec": {
   "display_name": "Python 3 (ipykernel)",
   "language": "python",
   "name": "python3"
  },
  "language_info": {
   "codemirror_mode": {
    "name": "ipython",
    "version": 3
   },
   "file_extension": ".py",
   "mimetype": "text/x-python",
   "name": "python",
   "nbconvert_exporter": "python",
   "pygments_lexer": "ipython3",
   "version": "3.13.5"
  }
 },
 "nbformat": 4,
 "nbformat_minor": 5
}
