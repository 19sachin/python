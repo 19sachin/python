{
 "cells": [
  {
   "cell_type": "code",
   "execution_count": 1,
   "id": "d69f5de4-a0a1-405a-b812-f787da69b527",
   "metadata": {},
   "outputs": [
    {
     "data": {
      "text/plain": [
       "False"
      ]
     },
     "execution_count": 1,
     "metadata": {},
     "output_type": "execute_result"
    }
   ],
   "source": [
    "10 == 50\n"
   ]
  },
  {
   "cell_type": "code",
   "execution_count": 2,
   "id": "88a5854c-7847-417d-8064-759ae2818e0f",
   "metadata": {},
   "outputs": [
    {
     "data": {
      "text/plain": [
       "True"
      ]
     },
     "execution_count": 2,
     "metadata": {},
     "output_type": "execute_result"
    }
   ],
   "source": [
    "10 !=50"
   ]
  },
  {
   "cell_type": "code",
   "execution_count": 95,
   "id": "fa02bbe9-0ad3-4b79-b653-9f7d1e6c6068",
   "metadata": {},
   "outputs": [
    {
     "data": {
      "text/plain": [
       "False"
      ]
     },
     "execution_count": 95,
     "metadata": {},
     "output_type": "execute_result"
    }
   ],
   "source": [
    "'vanika' == 'amika'"
   ]
  },
  {
   "cell_type": "code",
   "execution_count": null,
   "id": "c7f67aca-012e-4fb2-95c4-208f50cba160",
   "metadata": {},
   "outputs": [],
   "source": [
    "'vamika' == 'amika'"
   ]
  },
  {
   "cell_type": "code",
   "execution_count": 94,
   "id": "90a174c9-f168-41a5-b976-c7e7485dc07d",
   "metadata": {},
   "outputs": [
    {
     "name": "stdout",
     "output_type": "stream",
     "text": [
      "True\n"
     ]
    }
   ],
   "source": [
    "x = 10\n",
    "y = 9\n",
    "print(x>y)"
   ]
  },
  {
   "cell_type": "code",
   "execution_count": 6,
   "id": "eb4757e9-bbaf-44ae-ba3b-a2087fa08838",
   "metadata": {},
   "outputs": [
    {
     "name": "stdout",
     "output_type": "stream",
     "text": [
      "True\n"
     ]
    }
   ],
   "source": [
    "x = 10\n",
    "y = 9\n",
    "print (x>y)"
   ]
  },
  {
   "cell_type": "code",
   "execution_count": 9,
   "id": "81a10de3-320e-44dd-b41c-d96236de7eae",
   "metadata": {},
   "outputs": [
    {
     "data": {
      "text/plain": [
       "True"
      ]
     },
     "execution_count": 9,
     "metadata": {},
     "output_type": "execute_result"
    }
   ],
   "source": [
    "10<=10"
   ]
  },
  {
   "cell_type": "code",
   "execution_count": 10,
   "id": "a11f82d1-dc96-4cc5-b654-b3b3a0a61d5f",
   "metadata": {},
   "outputs": [
    {
     "data": {
      "text/plain": [
       "False"
      ]
     },
     "execution_count": 10,
     "metadata": {},
     "output_type": "execute_result"
    }
   ],
   "source": [
    "(10>50) and (50>10)"
   ]
  },
  {
   "cell_type": "code",
   "execution_count": 11,
   "id": "a8a0f6b0-6e67-4894-ac4b-bdc704c4e93d",
   "metadata": {},
   "outputs": [
    {
     "data": {
      "text/plain": [
       "True"
      ]
     },
     "execution_count": 11,
     "metadata": {},
     "output_type": "execute_result"
    }
   ],
   "source": [
    "(10>50) or (50>10)"
   ]
  },
  {
   "cell_type": "code",
   "execution_count": 13,
   "id": "39afb626-4a7c-499c-a8b8-332e9a543d27",
   "metadata": {},
   "outputs": [
    {
     "data": {
      "text/plain": [
       "True"
      ]
     },
     "execution_count": 13,
     "metadata": {},
     "output_type": "execute_result"
    }
   ],
   "source": [
    "('vanilla'>'chocolate') and (50>10)"
   ]
  },
  {
   "cell_type": "code",
   "execution_count": 16,
   "id": "d3ae5a64-b0ca-4b57-bbd5-f37d33adae0f",
   "metadata": {},
   "outputs": [
    {
     "data": {
      "text/plain": [
       "True"
      ]
     },
     "execution_count": 16,
     "metadata": {},
     "output_type": "execute_result"
    }
   ],
   "source": [
    "cmas = 'my name is sachin kumar singh'\n",
    "'singh' in cmas"
   ]
  },
  {
   "cell_type": "code",
   "execution_count": 31,
   "id": "aa452faf-9336-48d5-8f44-af62ff685e89",
   "metadata": {},
   "outputs": [
    {
     "name": "stdout",
     "output_type": "stream",
     "text": [
      "true\n"
     ]
    }
   ],
   "source": [
    "if 25>22:\n",
    "  print('true')\n",
    "else:\n",
    "  print('false')"
   ]
  },
  {
   "cell_type": "code",
   "execution_count": 33,
   "id": "209f6dd9-50bc-4f17-86f0-c80a7b8a73eb",
   "metadata": {},
   "outputs": [
    {
     "name": "stdout",
     "output_type": "stream",
     "text": [
      "star\n"
     ]
    }
   ],
   "source": [
    "print('star') if 10<30 else print(\"moon\")"
   ]
  },
  {
   "cell_type": "code",
   "execution_count": 38,
   "id": "eefa6922-4208-4257-b91a-7dc30ca49ca3",
   "metadata": {},
   "outputs": [
    {
     "name": "stdin",
     "output_type": "stream",
     "text": [
      "enter your number -5\n"
     ]
    },
    {
     "name": "stdout",
     "output_type": "stream",
     "text": [
      "i is 0 or Negative\n"
     ]
    }
   ],
   "source": [
    "i = int(input('enter your number'))\n",
    "\n",
    " # Checking if i is greater than 0\n",
    "if (i > 0):\n",
    "    print(\"i is positive\")\n",
    "else:\n",
    "    print(\"i is 0 or Negative\")"
   ]
  },
  {
   "cell_type": "code",
   "execution_count": 39,
   "id": "26642b05-b084-4cfb-abec-7f88b3ecc0e4",
   "metadata": {},
   "outputs": [
    {
     "name": "stdout",
     "output_type": "stream",
     "text": [
      "negative\n"
     ]
    }
   ],
   "source": [
    "a = -2\n",
    "res = \"positive\" if a>= 0 else \"negative\"\n",
    "print(res)"
   ]
  },
  {
   "cell_type": "code",
   "execution_count": 41,
   "id": "35574c9d-f78c-47f3-83f0-142ac340b9e8",
   "metadata": {},
   "outputs": [
    {
     "name": "stdout",
     "output_type": "stream",
     "text": [
      "eligible\n"
     ]
    }
   ],
   "source": [
    "age = 22\n",
    "exp = 10\n",
    "if age > 21 and exp>5:\n",
    " print(\"eligible\")\n",
    "else:\n",
    " print(\"not eligible\")\n"
   ]
  },
  {
   "cell_type": "code",
   "execution_count": 93,
   "id": "f8be1191-6a00-40be-8089-fb8815d3a29a",
   "metadata": {},
   "outputs": [
    {
     "name": "stdin",
     "output_type": "stream",
     "text": [
      " 5\n"
     ]
    },
    {
     "name": "stdout",
     "output_type": "stream",
     "text": [
      "i is not equal to 10\n"
     ]
    }
   ],
   "source": [
    "i = int(input())\n",
    "if i == 10:\n",
    "    if (i<15):\n",
    "        print(\"i is smaller than 15\")\n",
    "\n",
    "    if (i<12):\n",
    "        print(\"i is smaller than 12 too\")\n",
    "    else:\n",
    "        print(\"i is greater than 15\")\n",
    "else:\n",
    "    print(\"i is not equal to 10\")"
   ]
  },
  {
   "cell_type": "code",
   "execution_count": 56,
   "id": "7cb92922-027d-48f4-b1b8-cab7ee31f8b2",
   "metadata": {},
   "outputs": [
    {
     "name": "stdout",
     "output_type": "stream",
     "text": [
      "1\n",
      "2\n",
      "3\n",
      "4\n",
      "5\n",
      "6\n"
     ]
    }
   ],
   "source": [
    "integers = [1,2,3,4,5,6]\n",
    "for i in integers:\n",
    "    print(i)\n",
    " "
   ]
  },
  {
   "cell_type": "code",
   "execution_count": 57,
   "id": "a5e70e84-1985-40cc-949a-5ebc01d9264d",
   "metadata": {},
   "outputs": [
    {
     "name": "stdout",
     "output_type": "stream",
     "text": [
      "sachin\n",
      "sachin\n",
      "sachin\n",
      "sachin\n",
      "sachin\n",
      "sachin\n"
     ]
    }
   ],
   "source": [
    "integers = [1,2,3,4,5,6]\n",
    "for i in integers:\n",
    "    print('sachin')\n",
    " "
   ]
  },
  {
   "cell_type": "code",
   "execution_count": 58,
   "id": "f1e24d7d-0aff-4bc6-aa8b-0fef9ca401d2",
   "metadata": {},
   "outputs": [
    {
     "name": "stdout",
     "output_type": "stream",
     "text": [
      "2\n",
      "4\n",
      "6\n",
      "8\n",
      "10\n",
      "12\n"
     ]
    }
   ],
   "source": [
    "for Jelly in integers:\n",
    "    print(Jelly + Jelly)"
   ]
  },
  {
   "cell_type": "code",
   "execution_count": 60,
   "id": "23852c6c-ba7d-48ee-9adf-6608640a88a5",
   "metadata": {},
   "outputs": [],
   "source": [
    "ice_cream_dict = {'name':'sachin','weekly intake':'6','favorite ice cream brand':['nandani','amul']}\n"
   ]
  },
  {
   "cell_type": "code",
   "execution_count": 61,
   "id": "e4f9a041-e1a1-47b3-9f2a-4aacf95db10c",
   "metadata": {},
   "outputs": [
    {
     "name": "stdout",
     "output_type": "stream",
     "text": [
      "sachin\n",
      "6\n",
      "['nandani', 'amul']\n"
     ]
    }
   ],
   "source": [
    "ice_cream_dict = {'name':'sachin','weekly intake':'6','favorite ice cream brand':['nandani','amul']}\n",
    "for cream in ice_cream_dict.values():\n",
    "    print(cream)"
   ]
  },
  {
   "cell_type": "code",
   "execution_count": 62,
   "id": "b1364c30-0fc7-4785-b1bb-b8f25771d73b",
   "metadata": {},
   "outputs": [
    {
     "name": "stdout",
     "output_type": "stream",
     "text": [
      "('name', 'sachin')\n",
      "('weekly intake', '6')\n",
      "('favorite ice cream brand', ['nandani', 'amul'])\n"
     ]
    }
   ],
   "source": [
    "for cream in ice_cream_dict.items():\n",
    "    print(cream)"
   ]
  },
  {
   "cell_type": "code",
   "execution_count": 68,
   "id": "322eb7d7-0e39-4e35-aa58-0ce16f853df8",
   "metadata": {},
   "outputs": [
    {
     "name": "stdin",
     "output_type": "stream",
     "text": [
      "Enter you name:  sachin\n",
      "Enter your weight in kg:  78\n",
      "Enter your height in inches:  1.7\n"
     ]
    },
    {
     "name": "stdout",
     "output_type": "stream",
     "text": [
      "26.989619377162633\n",
      "sachin, you are overweight. You need to exercise more and stop sitting and writing so many python tutorials.\n"
     ]
    }
   ],
   "source": [
    "name = input(\"Enter you name: \")\n",
    "\n",
    "weight = int(input(\"Enter your weight in kg: \"))\n",
    "\n",
    "height = float(input(\"Enter your height in inches: \"))\n",
    "\n",
    "BMI = (weight) / (height * height)\n",
    "\n",
    "print(BMI)\n",
    "\n",
    "if BMI>0:\n",
    "    if(BMI<18.5):\n",
    "        print(name +\", you are underwight.\")\n",
    "    elif (BMI<=24.9):\n",
    "        print(name +\", you are normal weight.\")\n",
    "    elif (BMI<29.9):\n",
    "        print(name +\", you are overweight. You need to exercise more \")\n",
    "    elif (BMI<34.9):\n",
    "        print(name +\", you are obese.\")\n",
    "    elif (BMI<39.9):\n",
    "        print(name +\", you are severely obese.\")\n",
    "    else:\n",
    "        print(name +\", you are morbidly obese.\")\n",
    "else:\n",
    "    print(\"Enter valid input\")"
   ]
  },
  {
   "cell_type": "code",
   "execution_count": null,
   "id": "c98889d1-98e0-4ecc-b1e6-28d66a8b493b",
   "metadata": {},
   "outputs": [],
   "source": []
  },
  {
   "cell_type": "code",
   "execution_count": 71,
   "id": "1f97bc84-36ea-46ab-b72e-bf9f06510d99",
   "metadata": {},
   "outputs": [
    {
     "name": "stdout",
     "output_type": "stream",
     "text": [
      "swift\n",
      "python\n",
      "man\n"
     ]
    }
   ],
   "source": [
    "languages = ['swift','python','man']\n",
    "for a in languages:\n",
    "    print(a)"
   ]
  },
  {
   "cell_type": "code",
   "execution_count": 72,
   "id": "bed9375f-38be-4a22-87c1-e265042d53e0",
   "metadata": {},
   "outputs": [
    {
     "name": "stdout",
     "output_type": "stream",
     "text": [
      "swift\n",
      "-----\n",
      "python\n",
      "-----\n",
      "man\n",
      "-----\n",
      "last statment\n"
     ]
    }
   ],
   "source": [
    "languages = ['swift','python','man']\n",
    "for a in languages:\n",
    "    print(a)\n",
    "    print('-----')\n",
    "print('last statment')    "
   ]
  },
  {
   "cell_type": "code",
   "execution_count": 75,
   "id": "88b5c307-6936-49f6-987d-ab89cabc8ce3",
   "metadata": {},
   "outputs": [
    {
     "name": "stdout",
     "output_type": "stream",
     "text": [
      "a\n",
      "m\n",
      "a\n",
      "n\n"
     ]
    }
   ],
   "source": [
    "sachin = 'aman'\n",
    "for x in sachin:\n",
    "    print(x)"
   ]
  },
  {
   "cell_type": "code",
   "execution_count": 79,
   "id": "f36a0b6d-f017-4dc2-ae4a-3fea1f202cae",
   "metadata": {},
   "outputs": [
    {
     "name": "stdout",
     "output_type": "stream",
     "text": [
      "0\n",
      "1\n",
      "2\n",
      "3\n"
     ]
    }
   ],
   "source": [
    "for i in range(0, 4):   #range\n",
    "    print(i)\n"
   ]
  },
  {
   "cell_type": "code",
   "execution_count": 78,
   "id": "4d29da3c-7ca8-4660-9fdf-db3572a17d8d",
   "metadata": {},
   "outputs": [
    {
     "name": "stdout",
     "output_type": "stream",
     "text": [
      "swift\n",
      "python\n"
     ]
    }
   ],
   "source": [
    "languages = ['swift','python','man']\n",
    "for a in languages:\n",
    "    if a == 'man':\n",
    "        break\n",
    "    print(a)"
   ]
  },
  {
   "cell_type": "code",
   "execution_count": 81,
   "id": "d164028f-43db-4fd9-b436-cb7bb54f2ae6",
   "metadata": {},
   "outputs": [
    {
     "name": "stdout",
     "output_type": "stream",
     "text": [
      "swift\n",
      "python\n",
      "tiger\n",
      "name\n"
     ]
    }
   ],
   "source": [
    "languages = ['swift','python','man','tiger','name']\n",
    "for a in languages:\n",
    "    if a == 'man':\n",
    "        continue\n",
    "    print(a)"
   ]
  },
  {
   "cell_type": "code",
   "execution_count": 89,
   "id": "59e328e0-89bf-4a6a-be77-5c184fb1b2d2",
   "metadata": {},
   "outputs": [
    {
     "name": "stdout",
     "output_type": "stream",
     "text": [
      "electric tsla\n",
      "----\n",
      "electric BYD\n",
      "----\n",
      "electric porsche\n",
      "----\n",
      "electric mercedes\n",
      "----\n",
      "car tsla\n",
      "----\n",
      "car BYD\n",
      "----\n",
      "car porsche\n",
      "----\n",
      "car mercedes\n",
      "----\n"
     ]
    }
   ],
   "source": [
    "attributes = ['electric','car']\n",
    "cars = ['tsla','BYD','porsche','mercedes']\n",
    "for ink in attributes:\n",
    "    for car in cars:\n",
    "        print(ink,car)\n",
    "        print('----')   "
   ]
  },
  {
   "cell_type": "code",
   "execution_count": 90,
   "id": "58a65d59-037b-4963-b528-f7b4f8805375",
   "metadata": {},
   "outputs": [
    {
     "name": "stdout",
     "output_type": "stream",
     "text": [
      "ram\n",
      "ram\n",
      "ram\n",
      "ram\n",
      "ram\n",
      "ram\n"
     ]
    }
   ],
   "source": [
    "for i in range(0,6):\n",
    "    print('ram')"
   ]
  },
  {
   "cell_type": "code",
   "execution_count": 96,
   "id": "499f1343-660f-49b3-a743-f0633ae93237",
   "metadata": {},
   "outputs": [
    {
     "data": {
      "text/plain": [
       "'C:\\\\Users\\\\sachi'"
      ]
     },
     "execution_count": 96,
     "metadata": {},
     "output_type": "execute_result"
    }
   ],
   "source": [
    "import os\n",
    "os.getcwd()"
   ]
  },
  {
   "cell_type": "code",
   "execution_count": null,
   "id": "013b1812-b3f9-44f8-9bc7-18911eb15b29",
   "metadata": {},
   "outputs": [],
   "source": []
  }
 ],
 "metadata": {
  "kernelspec": {
   "display_name": "Python 3 (ipykernel)",
   "language": "python",
   "name": "python3"
  },
  "language_info": {
   "codemirror_mode": {
    "name": "ipython",
    "version": 3
   },
   "file_extension": ".py",
   "mimetype": "text/x-python",
   "name": "python",
   "nbconvert_exporter": "python",
   "pygments_lexer": "ipython3",
   "version": "3.13.5"
  },
  "widgets": {
   "application/vnd.jupyter.widget-state+json": {
    "state": {},
    "version_major": 2,
    "version_minor": 0
   }
  }
 },
 "nbformat": 4,
 "nbformat_minor": 5
}
